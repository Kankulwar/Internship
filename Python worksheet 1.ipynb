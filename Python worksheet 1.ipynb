{
 "cells": [
  {
   "cell_type": "code",
   "execution_count": 1,
   "id": "fb4a86fe",
   "metadata": {},
   "outputs": [
    {
     "name": "stdout",
     "output_type": "stream",
     "text": [
      "enter a number here:6\n",
      "The factorial of the given number is 1\n",
      "The factorial of the given number is 2\n",
      "The factorial of the given number is 6\n",
      "The factorial of the given number is 24\n",
      "The factorial of the given number is 120\n",
      "The factorial of the given number is 720\n"
     ]
    }
   ],
   "source": [
    "# Q.11 Find factorial of a number\n",
    "num =  int(input(\"enter a number here:\"))\n",
    "fact = 1\n",
    "if num<0:\n",
    "    print (\"factorial of 0 does not exist\")\n",
    "if num == 0:\n",
    "    print (\"factorial of 0 is\" , 1)\n",
    "if num>0:\n",
    "    for i in range (1, num+1):\n",
    "        fact = fact * i\n",
    "        print (\"The factorial of the given number is\" , fact)\n"
   ]
  },
  {
   "cell_type": "code",
   "execution_count": 2,
   "id": "17a59a81",
   "metadata": {},
   "outputs": [
    {
     "name": "stdout",
     "output_type": "stream",
     "text": [
      "Enter a number: 2\n",
      "It is a Prime number : \n"
     ]
    }
   ],
   "source": [
    "# Q.12 Find whether a number is prime or composite.\n",
    "num = int(input(\"Enter a number: \"))\n",
    "count = 0\n",
    "i = 1\n",
    "while i<=num:\n",
    "    if num%i==0:\n",
    "        count = count+1\n",
    "        i = i+1\n",
    "if count==2:\n",
    "    print(\"It is a Prime number : \")\n",
    "elif count>2:\n",
    "    print(\"It is a Composite number : \")\n",
    "else:\n",
    "    print(\" The number is neither Prime nor Composite \")\n",
    "    "
   ]
  },
  {
   "cell_type": "code",
   "execution_count": 4,
   "id": "b64241c0",
   "metadata": {},
   "outputs": [
    {
     "name": "stdout",
     "output_type": "stream",
     "text": [
      "Enter a number: 6\n"
     ]
    },
    {
     "ename": "KeyboardInterrupt",
     "evalue": "",
     "output_type": "error",
     "traceback": [
      "\u001b[1;31m---------------------------------------------------------------------------\u001b[0m",
      "\u001b[1;31mKeyboardInterrupt\u001b[0m                         Traceback (most recent call last)",
      "Cell \u001b[1;32mIn[4], line 4\u001b[0m\n\u001b[0;32m      2\u001b[0m count \u001b[38;5;241m=\u001b[39m \u001b[38;5;241m0\u001b[39m\n\u001b[0;32m      3\u001b[0m i \u001b[38;5;241m=\u001b[39m \u001b[38;5;241m1\u001b[39m\n\u001b[1;32m----> 4\u001b[0m \u001b[38;5;28;01mwhile\u001b[39;00m i\u001b[38;5;241m<\u001b[39m\u001b[38;5;241m=\u001b[39mnum:\n\u001b[0;32m      5\u001b[0m     \u001b[38;5;28;01mif\u001b[39;00m num\u001b[38;5;241m%\u001b[39mi\u001b[38;5;241m==\u001b[39m\u001b[38;5;241m0\u001b[39m:\n\u001b[0;32m      6\u001b[0m         count \u001b[38;5;241m=\u001b[39m count\u001b[38;5;241m+\u001b[39m\u001b[38;5;241m1\u001b[39m\n",
      "\u001b[1;31mKeyboardInterrupt\u001b[0m: "
     ]
    }
   ],
   "source": [
    "num = int(input(\"Enter a number: \"))\n",
    "count = 0\n",
    "i = 1\n",
    "while i<=num:\n",
    "    if num%i==0:\n",
    "        count = count+1\n",
    "        i = i+1\n",
    "if count==2:\n",
    "    print(\"It is a Prime number : \")\n",
    "elif count>2:\n",
    "    print(\"It is a Composite number : \")\n",
    "else:\n",
    "    print(\" The number is neither Prime nor Composite \")\n",
    "    "
   ]
  },
  {
   "cell_type": "code",
   "execution_count": 5,
   "id": "c9003e4c",
   "metadata": {},
   "outputs": [
    {
     "name": "stdout",
     "output_type": "stream",
     "text": [
      "Enter String: madam\n",
      "Palindrom String\n"
     ]
    }
   ],
   "source": [
    "#Q.13 check whether a given string is palindrome or not\n",
    "a=input(\"Enter String: \")\n",
    "b=a[-1::-1]\n",
    "if(a==b):\n",
    "    print(\"Palindrom String\")\n",
    "else:\n",
    "    print(\"Not Palidrom String\")"
   ]
  },
  {
   "cell_type": "code",
   "execution_count": 6,
   "id": "d8f14d7b",
   "metadata": {},
   "outputs": [
    {
     "name": "stdout",
     "output_type": "stream",
     "text": [
      "Enter String: rohan\n",
      "Not Palidrom String\n"
     ]
    }
   ],
   "source": [
    "a=input(\"Enter String: \")\n",
    "b=a[-1::-1]\n",
    "if(a==b):\n",
    "    print(\"Palindrom String\")\n",
    "else:\n",
    "    print(\"Not Palidrom String\")"
   ]
  },
  {
   "cell_type": "code",
   "execution_count": 9,
   "id": "af05581d",
   "metadata": {},
   "outputs": [
    {
     "ename": "KeyboardInterrupt",
     "evalue": "Interrupted by user",
     "output_type": "error",
     "traceback": [
      "\u001b[1;31m---------------------------------------------------------------------------\u001b[0m",
      "\u001b[1;31mKeyboardInterrupt\u001b[0m                         Traceback (most recent call last)",
      "Cell \u001b[1;32mIn[9], line 2\u001b[0m\n\u001b[0;32m      1\u001b[0m \u001b[38;5;28;01mimport\u001b[39;00m \u001b[38;5;21;01mmath\u001b[39;00m\n\u001b[1;32m----> 2\u001b[0m a\u001b[38;5;241m=\u001b[39m\u001b[38;5;28minput\u001b[39m(\u001b[38;5;124m\"\u001b[39m\u001b[38;5;124mEnter first shorter leg of Right Angled Triangle \u001b[39m\u001b[38;5;124m\"\u001b[39m)\n\u001b[0;32m      3\u001b[0m b\u001b[38;5;241m=\u001b[39m\u001b[38;5;28minput\u001b[39m(\u001b[38;5;124m\"\u001b[39m\u001b[38;5;124mEnter second shorter leg of Right Angled Triangle\u001b[39m\u001b[38;5;124m\"\u001b[39m)\n\u001b[0;32m      4\u001b[0m c\u001b[38;5;241m=\u001b[39mmath\u001b[38;5;241m.\u001b[39msqrt(a \u001b[38;5;241m*\u001b[39m\u001b[38;5;241m*\u001b[39m \u001b[38;5;241m2\u001b[39m\u001b[38;5;241m+\u001b[39mb \u001b[38;5;241m*\u001b[39m\u001b[38;5;241m*\u001b[39m \u001b[38;5;241m2\u001b[39m)\n",
      "File \u001b[1;32m~\\anaconda3\\Lib\\site-packages\\ipykernel\\kernelbase.py:1202\u001b[0m, in \u001b[0;36mKernel.raw_input\u001b[1;34m(self, prompt)\u001b[0m\n\u001b[0;32m   1200\u001b[0m     msg \u001b[38;5;241m=\u001b[39m \u001b[38;5;124m\"\u001b[39m\u001b[38;5;124mraw_input was called, but this frontend does not support input requests.\u001b[39m\u001b[38;5;124m\"\u001b[39m\n\u001b[0;32m   1201\u001b[0m     \u001b[38;5;28;01mraise\u001b[39;00m StdinNotImplementedError(msg)\n\u001b[1;32m-> 1202\u001b[0m \u001b[38;5;28;01mreturn\u001b[39;00m \u001b[38;5;28mself\u001b[39m\u001b[38;5;241m.\u001b[39m_input_request(\n\u001b[0;32m   1203\u001b[0m     \u001b[38;5;28mstr\u001b[39m(prompt),\n\u001b[0;32m   1204\u001b[0m     \u001b[38;5;28mself\u001b[39m\u001b[38;5;241m.\u001b[39m_parent_ident[\u001b[38;5;124m\"\u001b[39m\u001b[38;5;124mshell\u001b[39m\u001b[38;5;124m\"\u001b[39m],\n\u001b[0;32m   1205\u001b[0m     \u001b[38;5;28mself\u001b[39m\u001b[38;5;241m.\u001b[39mget_parent(\u001b[38;5;124m\"\u001b[39m\u001b[38;5;124mshell\u001b[39m\u001b[38;5;124m\"\u001b[39m),\n\u001b[0;32m   1206\u001b[0m     password\u001b[38;5;241m=\u001b[39m\u001b[38;5;28;01mFalse\u001b[39;00m,\n\u001b[0;32m   1207\u001b[0m )\n",
      "File \u001b[1;32m~\\anaconda3\\Lib\\site-packages\\ipykernel\\kernelbase.py:1245\u001b[0m, in \u001b[0;36mKernel._input_request\u001b[1;34m(self, prompt, ident, parent, password)\u001b[0m\n\u001b[0;32m   1242\u001b[0m \u001b[38;5;28;01mexcept\u001b[39;00m \u001b[38;5;167;01mKeyboardInterrupt\u001b[39;00m:\n\u001b[0;32m   1243\u001b[0m     \u001b[38;5;66;03m# re-raise KeyboardInterrupt, to truncate traceback\u001b[39;00m\n\u001b[0;32m   1244\u001b[0m     msg \u001b[38;5;241m=\u001b[39m \u001b[38;5;124m\"\u001b[39m\u001b[38;5;124mInterrupted by user\u001b[39m\u001b[38;5;124m\"\u001b[39m\n\u001b[1;32m-> 1245\u001b[0m     \u001b[38;5;28;01mraise\u001b[39;00m \u001b[38;5;167;01mKeyboardInterrupt\u001b[39;00m(msg) \u001b[38;5;28;01mfrom\u001b[39;00m \u001b[38;5;28;01mNone\u001b[39;00m\n\u001b[0;32m   1246\u001b[0m \u001b[38;5;28;01mexcept\u001b[39;00m \u001b[38;5;167;01mException\u001b[39;00m:\n\u001b[0;32m   1247\u001b[0m     \u001b[38;5;28mself\u001b[39m\u001b[38;5;241m.\u001b[39mlog\u001b[38;5;241m.\u001b[39mwarning(\u001b[38;5;124m\"\u001b[39m\u001b[38;5;124mInvalid Message:\u001b[39m\u001b[38;5;124m\"\u001b[39m, exc_info\u001b[38;5;241m=\u001b[39m\u001b[38;5;28;01mTrue\u001b[39;00m)\n",
      "\u001b[1;31mKeyboardInterrupt\u001b[0m: Interrupted by user"
     ]
    },
    {
     "name": "stdout",
     "output_type": "stream",
     "text": [
      "Enter first shorter leg of Right Angled Triangle 3\n"
     ]
    }
   ],
   "source": [
    "import math\n",
    "a=input(\"Enter first shorter leg of Right Angled Triangle \")\n",
    "b=input(\"Enter second shorter leg of Right Angled Triangle\")\n",
    "c=math.sqrt(a ** 2+b ** 2)\n",
    "print(\"Hypotenuse of a Right Angled Triangle : \",c)"
   ]
  },
  {
   "cell_type": "code",
   "execution_count": 2,
   "id": "6fece1eb",
   "metadata": {},
   "outputs": [
    {
     "name": "stdout",
     "output_type": "stream",
     "text": [
      "Enter first shorter leg of Right Angled Triangle 3\n",
      "Enter second shorter leg of Right Angled Triangle4\n",
      "Hypotenuse of a Right Angled Triangle :  5.0\n"
     ]
    }
   ],
   "source": [
    "import math\n",
    "a=int(input(\"Enter first shorter leg of Right Angled Triangle \"))\n",
    "b=int(input(\"Enter second shorter leg of Right Angled Triangle\"))\n",
    "c=math.sqrt(a ** 2 + b ** 2)\n",
    "print(\"Hypotenuse of a Right Angled Triangle : \",c)"
   ]
  },
  {
   "cell_type": "code",
   "execution_count": 3,
   "id": "58e85cad",
   "metadata": {},
   "outputs": [
    {
     "name": "stdout",
     "output_type": "stream",
     "text": [
      "Enter first shorter leg of Right Angled Triangle 8\n",
      "Enter second shorter leg of Right Angled Triangle6\n",
      "Hypotenuse of a Right Angled Triangle :  10.0\n"
     ]
    }
   ],
   "source": [
    "# Q.14  To get the third side of right-angled triangle from two given sides\n",
    "import math\n",
    "a=int(input(\"Enter first shorter leg of Right Angled Triangle \"))\n",
    "b=int(input(\"Enter second shorter leg of Right Angled Triangle\"))\n",
    "c=math.sqrt(a ** 2 + b ** 2)\n",
    "print(\"Hypotenuse of a Right Angled Triangle : \",c)"
   ]
  },
  {
   "cell_type": "code",
   "execution_count": null,
   "id": "3a39c5a3",
   "metadata": {},
   "outputs": [],
   "source": [
    "# Q.15  to print the frequency of each of the characters present in a given string\n"
   ]
  },
  {
   "cell_type": "code",
   "execution_count": null,
   "id": "60e13c46",
   "metadata": {},
   "outputs": [],
   "source": []
  }
 ],
 "metadata": {
  "kernelspec": {
   "display_name": "Python 3 (ipykernel)",
   "language": "python",
   "name": "python3"
  },
  "language_info": {
   "codemirror_mode": {
    "name": "ipython",
    "version": 3
   },
   "file_extension": ".py",
   "mimetype": "text/x-python",
   "name": "python",
   "nbconvert_exporter": "python",
   "pygments_lexer": "ipython3",
   "version": "3.11.5"
  }
 },
 "nbformat": 4,
 "nbformat_minor": 5
}
