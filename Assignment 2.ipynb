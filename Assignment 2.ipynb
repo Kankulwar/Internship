{
 "cells": [
  {
   "cell_type": "code",
   "execution_count": 2,
   "id": "707df8da",
   "metadata": {},
   "outputs": [
    {
     "name": "stdout",
     "output_type": "stream",
     "text": [
      "Python:xercises,PHP:xercises.\n"
     ]
    }
   ],
   "source": [
    "# Question 1\n",
    "import re\n",
    "sub_ =\"Python Exercises,PHP Exercises.\"\n",
    "x= re.sub(\"\\s+.\",\":\",sub_)\n",
    "print(x)"
   ]
  },
  {
   "cell_type": "code",
   "execution_count": 10,
   "id": "e5b168f7",
   "metadata": {},
   "outputs": [
    {
     "name": "stdout",
     "output_type": "stream",
     "text": [
      "{'SUMMARY' : ['hello, world!', 'XXXXX test', '123four, five:; six...']}\n"
     ]
    }
   ],
   "source": [
    "# Question 2\n",
    "import re\n",
    "target_string = \"{'SUMMARY' : ['hello, world!', 'XXXXX test', '123four, five:; six...']}\"\n",
    "res_str = re.sub (r\"^\\w+\", \"\", target_string)\n",
    "print(res_str)                 "
   ]
  },
  {
   "cell_type": "code",
   "execution_count": 5,
   "id": "a9bae5da",
   "metadata": {},
   "outputs": [
    {
     "name": "stdout",
     "output_type": "stream",
     "text": [
      "{'SUMMARY' : ['hello, world!', 'XXXXX test', '123four, five:; six...']}\n"
     ]
    }
   ],
   "source": [
    "# Question 2\n",
    "import re\n",
    "target_string = \"{'SUMMARY' : ['hello, world!', 'XXXXX test', '123four, five:; six...']}\"\n",
    "res_str = re.sub (r\"^\\w+\", \"\", target_string)\n",
    "print(res_str)                 "
   ]
  },
  {
   "cell_type": "code",
   "execution_count": 1,
   "id": "0a5faf92",
   "metadata": {},
   "outputs": [
    {
     "name": "stdout",
     "output_type": "stream",
     "text": [
      "['Chan', 'dray', 'foll', 'miss', 'Chan', 'dray', 'demo', 'nstr', 'capa', 'bili', 'safe', 'land', 'rovi', 'luna', 'surf']\n"
     ]
    }
   ],
   "source": [
    "# Question 3\n",
    "import re\n",
    "str1 = \"Chandrayaan-3 is follow on mission to Chandrayaan-2 to demonstrate end to end capability in the safe landing and roving on the lunar surface.\"\n",
    "string_pattern = r\"\\w{4}\"\n",
    "regex_pattern = re.compile(string_pattern)\n",
    "result = regex_pattern.findall(str1)\n",
    "print(result)"
   ]
  },
  {
   "cell_type": "code",
   "execution_count": 6,
   "id": "9799d9aa",
   "metadata": {},
   "outputs": [
    {
     "name": "stdout",
     "output_type": "stream",
     "text": [
      "['Chand', 'rayaa', 'follo', 'missi', 'Chand', 'rayaa', 'demon', 'strat', 'capab', 'ility', 'landi', 'rovin', 'lunar', 'surfa']\n"
     ]
    }
   ],
   "source": [
    "# Question 4\n",
    "import re\n",
    "str1 = \"Chandrayaan-3 is follow on mission to Chandrayaan-2 to demonstrate end to end capability in the safe landing and roving on the lunar surface.\"\n",
    "string_pattern = r\"\\w{5}\"\n",
    "regex_pattern = re.compile(string_pattern)\n",
    "result = regex_pattern.findall(str1)\n",
    "print(result)"
   ]
  },
  {
   "cell_type": "code",
   "execution_count": 14,
   "id": "c8a767cc",
   "metadata": {},
   "outputs": [
    {
     "ename": "AttributeError",
     "evalue": "'re.Pattern' object has no attribute 'remove_parentheses'",
     "output_type": "error",
     "traceback": [
      "\u001b[1;31m---------------------------------------------------------------------------\u001b[0m",
      "\u001b[1;31mAttributeError\u001b[0m                            Traceback (most recent call last)",
      "Cell \u001b[1;32mIn[14], line 6\u001b[0m\n\u001b[0;32m      4\u001b[0m string_pattern \u001b[38;5;241m=\u001b[39m \u001b[38;5;124mr\u001b[39m\u001b[38;5;124m\"\u001b[39m\u001b[38;5;124m\\\u001b[39m\u001b[38;5;124mw+\u001b[39m\u001b[38;5;124m\"\u001b[39m\n\u001b[0;32m      5\u001b[0m regex_pattern \u001b[38;5;241m=\u001b[39m re\u001b[38;5;241m.\u001b[39mcompile(string_pattern)\n\u001b[1;32m----> 6\u001b[0m result \u001b[38;5;241m=\u001b[39m regex_pattern\u001b[38;5;241m.\u001b[39mremove_parentheses(str1)\n\u001b[0;32m      7\u001b[0m \u001b[38;5;28mprint\u001b[39m(result)\n",
      "\u001b[1;31mAttributeError\u001b[0m: 're.Pattern' object has no attribute 'remove_parentheses'"
     ]
    }
   ],
   "source": [
    "# Question 5\n",
    "import re\n",
    "str1 = [\"example (.com)\", \"hr@fliprobo (.com)\", \"github (.com)\", \"Hello (Data Science World)\", \"Data (Scientist)\"]\n",
    "string_pattern = r\"\\w+\"\n",
    "regex_pattern = re.compile(string_pattern)\n",
    "result = regex_pattern.remove_parentheses(str1)\n",
    "print(result)"
   ]
  },
  {
   "cell_type": "code",
   "execution_count": 15,
   "id": "75a8fe86",
   "metadata": {},
   "outputs": [
    {
     "name": "stdout",
     "output_type": "stream",
     "text": [
      "['', 'mportance', 'fregular', 'xpressions', 'n', 'ython']\n"
     ]
    }
   ],
   "source": [
    "# Question 7\n",
    "import re\n",
    "text = \"ImportanceOfregularExpressionsInPython\"\n",
    "x = re.split(\"[A-Z]\",text)\n",
    "print(x)"
   ]
  },
  {
   "cell_type": "code",
   "execution_count": 19,
   "id": "a6faf220",
   "metadata": {},
   "outputs": [
    {
     "name": "stdout",
     "output_type": "stream",
     "text": [
      "RegularExpression1IsAn2ImportantTopic3InPython\n"
     ]
    }
   ],
   "source": [
    "# Question 8\n",
    "import re\n",
    "def insert_spaces(text):\n",
    "    pattern = r'(d\\+)([A-Za-z]+)'\n",
    "    result = re.sub(pattern, r'\\1 \\2',text)\n",
    "    return result\n",
    "text = \"RegularExpression1IsAn2ImportantTopic3InPython\"\n",
    "output = insert_spaces(text)\n",
    "print(output)"
   ]
  },
  {
   "cell_type": "code",
   "execution_count": 21,
   "id": "b1531e42",
   "metadata": {},
   "outputs": [
    {
     "name": "stdout",
     "output_type": "stream",
     "text": [
      "RegularExpression1IsAn1ImportantTopic3In Python\n"
     ]
    }
   ],
   "source": [
    "# Question 9\n",
    "import re\n",
    "def capital_words_spaces(str1):\n",
    "    return re.sub(r\"(d\\+)([A-Z]+)\",r\"\\1 \\2\",str1)\n",
    "print(capital_words_spaces(\"RegularExpression1IsAn1ImportantTopic3In Python\"))"
   ]
  },
  {
   "cell_type": "code",
   "execution_count": 24,
   "id": "efe692a2",
   "metadata": {},
   "outputs": [
    {
     "ename": "SyntaxError",
     "evalue": "unterminated string literal (detected at line 4) (3467722316.py, line 4)",
     "output_type": "error",
     "traceback": [
      "\u001b[1;36m  Cell \u001b[1;32mIn[24], line 4\u001b[1;36m\u001b[0m\n\u001b[1;33m    df =pd.Dataframe({\"Country,Region,Happiness Rank,Happiness Score,Standard Error,Economy (GDP per Capita),Family,Health (Life Expectancy),Freedom,Trust (Government Corruption),Generosity,Dystopia Residual\u001b[0m\n\u001b[1;37m                      ^\u001b[0m\n\u001b[1;31mSyntaxError\u001b[0m\u001b[1;31m:\u001b[0m unterminated string literal (detected at line 4)\n"
     ]
    }
   ],
   "source": [
    "# Question 10\n",
    "import pandas as pd\n",
    "import regex as re\n",
    "df =pd.Dataframe({\"Country,Region,Happiness Rank,Happiness Score,Standard Error,Economy (GDP per Capita),Family,Health (Life Expectancy),Freedom,Trust (Government Corruption),Generosity,Dystopia Residual\n",
    "Switzerland,Western Europe,1,7.587,0.03411,1.39651,1.34951,0.94143,0.66557,0.41978,0.29678,2.51738\n",
    "Iceland,Western Europe,2,7.561,0.04884,1.30232,1.40223,0.94784,0.62877,0.14145,0.4363,2.70201\n",
    "Denmark,Western Europe,3,7.527,0.03328,1.32548,1.36058,0.87464,0.64938,0.48357,0.34139,2.49204\n",
    "Norway,Western Europe,4,7.522,0.0388,1.459,1.33095,0.88521,0.66973,0.36503,0.34699,2.46531\n",
    "Canada,North America,5,7.427,0.03553,1.32629,1.32261,0.90563,0.63297,0.32957,0.45811,2.45176\n",
    "Finland,Western Europe,6,7.406,0.0314,1.29025,1.31826,0.88911,0.64169,0.41372,0.23351,2.61955\n",
    "Netherlands,Western Europe,7,7.378,0.02799,1.32944,1.28017,0.89284,0.61576,0.31814,0.4761,2.4657\n",
    "\n",
    "df                  "
   ]
  },
  {
   "cell_type": "code",
   "execution_count": 32,
   "id": "7efc90cd",
   "metadata": {},
   "outputs": [
    {
     "name": "stdout",
     "output_type": "stream",
     "text": [
      "<re.Match object; span=(0, 32), match='123abc is an alphanumeric number'>\n"
     ]
    }
   ],
   "source": [
    "# Question 11\n",
    "import re\n",
    "target_string = \"123abc is an alphanumeric number\"\n",
    "y = re.match(\"\\w.+\",target_string)\n",
    "print(y)"
   ]
  },
  {
   "cell_type": "code",
   "execution_count": 33,
   "id": "3459cc09",
   "metadata": {},
   "outputs": [
    {
     "name": "stdout",
     "output_type": "stream",
     "text": [
      "<re.Match object; span=(0, 28), match='This product is really great'>\n"
     ]
    }
   ],
   "source": [
    "#Question 12\n",
    "import re\n",
    "msg1 = \"This product is really great\"\n",
    "search = re.search(\"^This.*\",msg1)\n",
    "print(search)"
   ]
  },
  {
   "cell_type": "code",
   "execution_count": 35,
   "id": "aab05daf",
   "metadata": {},
   "outputs": [
    {
     "name": "stdout",
     "output_type": "stream",
     "text": [
      "target_string\n"
     ]
    }
   ],
   "source": [
    "#Question 13\n",
    "target_string = \"00192583\"\n",
    "res_str = re.sub(r\"^[0]+\",\"\",\"target_string\")\n",
    "print(res_str)"
   ]
  },
  {
   "cell_type": "code",
   "execution_count": 40,
   "id": "de7f59a1",
   "metadata": {},
   "outputs": [
    {
     "name": "stdout",
     "output_type": "stream",
     "text": [
      "<regex.Match object; span=(40, 43), match='dog'>\n"
     ]
    }
   ],
   "source": [
    "#Question 15\n",
    "import regex as re\n",
    "msges = [\"The quick brown fox jumps over the lazy dog.\"]\n",
    "for msg in msges:\n",
    "    search = re.search(\"fox\", msg)\n",
    "    search = re.search(\"dog\",msg)\n",
    "    print (search)"
   ]
  },
  {
   "cell_type": "code",
   "execution_count": 41,
   "id": "b85a7bfb",
   "metadata": {},
   "outputs": [
    {
     "ename": "TypeError",
     "evalue": "sub() missing 1 required positional argument: 'string'",
     "output_type": "error",
     "traceback": [
      "\u001b[1;31m---------------------------------------------------------------------------\u001b[0m",
      "\u001b[1;31mTypeError\u001b[0m                                 Traceback (most recent call last)",
      "Cell \u001b[1;32mIn[41], line 3\u001b[0m\n\u001b[0;32m      1\u001b[0m \u001b[38;5;66;03m#Question 18\u001b[39;00m\n\u001b[0;32m      2\u001b[0m \u001b[38;5;28;01mimport\u001b[39;00m \u001b[38;5;21;01mre\u001b[39;00m\n\u001b[1;32m----> 3\u001b[0m substitute \u001b[38;5;241m=\u001b[39m re\u001b[38;5;241m.\u001b[39msub(\u001b[38;5;124mr\u001b[39m\u001b[38;5;124m'\u001b[39m\u001b[38;5;124m[0-9]+\u001b[39m\u001b[38;5;124m'\u001b[39m\u001b[38;5;124mr\u001b[39m\u001b[38;5;124m'\u001b[39m\u001b[38;5;124m*\u001b[39m\u001b[38;5;124m'\u001b[39m,\u001b[38;5;124m'\u001b[39m\u001b[38;5;124mabc00123xyz456_0\u001b[39m\u001b[38;5;124m'\u001b[39m)\n\u001b[0;32m      4\u001b[0m \u001b[38;5;28mprint\u001b[39m(substitute_and_count)\n",
      "\u001b[1;31mTypeError\u001b[0m: sub() missing 1 required positional argument: 'string'"
     ]
    }
   ],
   "source": [
    "#Question 18\n",
    "\n",
    "import re\n",
    "substitute = re.sub(r'[0-9]+'r'*','abc00123xyz456_0')\n",
    "print(substitute_and_count)"
   ]
  },
  {
   "cell_type": "code",
   "execution_count": 44,
   "id": "9ecf8be7",
   "metadata": {},
   "outputs": [
    {
     "name": "stdout",
     "output_type": "stream",
     "text": [
      "['947', '896', '926', '524', '734', '950', '642']\n"
     ]
    }
   ],
   "source": [
    "#Question22\n",
    "pattern = \"\\d+\"\n",
    "text = \"My marks in each semester are: 947, 896, 926, 524, 734, 950, 642\"\n",
    "matches = re.findall(pattern, text)\n",
    "print(matches)"
   ]
  },
  {
   "cell_type": "code",
   "execution_count": 45,
   "id": "0e8d6991",
   "metadata": {},
   "outputs": [
    {
     "name": "stdout",
     "output_type": "stream",
     "text": [
      "None\n"
     ]
    }
   ],
   "source": [
    "import re\n",
    "msg1 = \"My marks in each semester are: 947, 896, 926, 524, 734, 950, 642\"\n",
    "search = re.search(\"^9.*0$\",msg1)\n",
    "print(search)"
   ]
  },
  {
   "cell_type": "code",
   "execution_count": 46,
   "id": "c87c17ae",
   "metadata": {},
   "outputs": [
    {
     "name": "stdout",
     "output_type": "stream",
     "text": [
      "None\n"
     ]
    }
   ],
   "source": [
    "#Question 26\n",
    "target_string=\"123abc is an alphanumeric number\"\n",
    "y =re.match(\"\\w$\",target_string)\n",
    "print(y)"
   ]
  },
  {
   "cell_type": "code",
   "execution_count": 47,
   "id": "dc728069",
   "metadata": {},
   "outputs": [
    {
     "ename": "FileNotFoundError",
     "evalue": "[Errno 2] No such file or directory: '/content/url_releated.text'",
     "output_type": "error",
     "traceback": [
      "\u001b[1;31m---------------------------------------------------------------------------\u001b[0m",
      "\u001b[1;31mFileNotFoundError\u001b[0m                         Traceback (most recent call last)",
      "Cell \u001b[1;32mIn[47], line 2\u001b[0m\n\u001b[0;32m      1\u001b[0m \u001b[38;5;28;01mimport\u001b[39;00m \u001b[38;5;21;01mre\u001b[39;00m\n\u001b[1;32m----> 2\u001b[0m \u001b[38;5;28;01mwith\u001b[39;00m \u001b[38;5;28mopen\u001b[39m(\u001b[38;5;124m\"\u001b[39m\u001b[38;5;124m/content/url_releated.text\u001b[39m\u001b[38;5;124m\"\u001b[39m)\u001b[38;5;28;01mas\u001b[39;00m file:\n\u001b[0;32m      3\u001b[0m     urls \u001b[38;5;241m=\u001b[39m re\u001b[38;5;241m.\u001b[39mfindall(\u001b[38;5;124m'\u001b[39m\u001b[38;5;124mhttps?://|?:[-\u001b[39m\u001b[38;5;124m\\\u001b[39m\u001b[38;5;124mW.]|(?:\u001b[39m\u001b[38;5;124m%\u001b[39m\u001b[38;5;124m[\u001b[39m\u001b[38;5;124m\\\u001b[39m\u001b[38;5;124mda-zA-Z0-9]\u001b[39m\u001b[38;5;132;01m{2}\u001b[39;00m\u001b[38;5;124m)+\u001b[39m\u001b[38;5;124m'\u001b[39m,line)\n\u001b[0;32m      4\u001b[0m     \u001b[38;5;28mprint\u001b[39m(urls)\n",
      "File \u001b[1;32m~\\anaconda3\\Lib\\site-packages\\IPython\\core\\interactiveshell.py:286\u001b[0m, in \u001b[0;36m_modified_open\u001b[1;34m(file, *args, **kwargs)\u001b[0m\n\u001b[0;32m    279\u001b[0m \u001b[38;5;28;01mif\u001b[39;00m file \u001b[38;5;129;01min\u001b[39;00m {\u001b[38;5;241m0\u001b[39m, \u001b[38;5;241m1\u001b[39m, \u001b[38;5;241m2\u001b[39m}:\n\u001b[0;32m    280\u001b[0m     \u001b[38;5;28;01mraise\u001b[39;00m \u001b[38;5;167;01mValueError\u001b[39;00m(\n\u001b[0;32m    281\u001b[0m         \u001b[38;5;124mf\u001b[39m\u001b[38;5;124m\"\u001b[39m\u001b[38;5;124mIPython won\u001b[39m\u001b[38;5;124m'\u001b[39m\u001b[38;5;124mt let you open fd=\u001b[39m\u001b[38;5;132;01m{\u001b[39;00mfile\u001b[38;5;132;01m}\u001b[39;00m\u001b[38;5;124m by default \u001b[39m\u001b[38;5;124m\"\u001b[39m\n\u001b[0;32m    282\u001b[0m         \u001b[38;5;124m\"\u001b[39m\u001b[38;5;124mas it is likely to crash IPython. If you know what you are doing, \u001b[39m\u001b[38;5;124m\"\u001b[39m\n\u001b[0;32m    283\u001b[0m         \u001b[38;5;124m\"\u001b[39m\u001b[38;5;124myou can use builtins\u001b[39m\u001b[38;5;124m'\u001b[39m\u001b[38;5;124m open.\u001b[39m\u001b[38;5;124m\"\u001b[39m\n\u001b[0;32m    284\u001b[0m     )\n\u001b[1;32m--> 286\u001b[0m \u001b[38;5;28;01mreturn\u001b[39;00m io_open(file, \u001b[38;5;241m*\u001b[39margs, \u001b[38;5;241m*\u001b[39m\u001b[38;5;241m*\u001b[39mkwargs)\n",
      "\u001b[1;31mFileNotFoundError\u001b[0m: [Errno 2] No such file or directory: '/content/url_releated.text'"
     ]
    }
   ],
   "source": [
    "import re\n",
    "with open(\"/content/url_releated.text\")as file:\n",
    "    urls = re.findall('https?://|?:[-\\W.]|(?:%[\\da-zA-Z0-9]{2})+',line)\n",
    "    print(urls)"
   ]
  },
  {
   "cell_type": "code",
   "execution_count": 48,
   "id": "b799c155",
   "metadata": {},
   "outputs": [
    {
     "name": "stdout",
     "output_type": "stream",
     "text": [
      "Matchobject: ['following', 'example', 'creates', 'ArrayList', 'capacity', 'elements', 'elements', 'added', 'ArrayList', 'ArrayList', 'trimmed', 'according']\n"
     ]
    }
   ],
   "source": [
    "#Question 30\n",
    "target_string=\"The following example creates an ArrayList with a capacity of 50 elements. 4 elements are then added to the ArrayList and the ArrayList is trimmed accordingly.\"\n",
    "result = re.findall(r\"\\w{5,9}\", target_string)\n",
    "print(\"Matchobject:\",result)"
   ]
  },
  {
   "cell_type": "code",
   "execution_count": 50,
   "id": "a6bea066",
   "metadata": {},
   "outputs": [],
   "source": [
    "import re\n",
    "pattern = re.compile(r\"(\\b\\d+\\b).(\\b[A-Z]+\\b)\")\n",
    "target_string =\"The following example creates an ArrayList with a capacity of 50 elements. 4 elements are then added to the ArrayList and the ArrayList is trimmed accordingly.\"\n",
    "for match1 in pattern.finditer(target_string):\n",
    "    print(match1.group(1))\n",
    "    print(match.group(2))"
   ]
  },
  {
   "cell_type": "code",
   "execution_count": null,
   "id": "998de875",
   "metadata": {},
   "outputs": [],
   "source": []
  },
  {
   "cell_type": "code",
   "execution_count": null,
   "id": "0e45a12d",
   "metadata": {},
   "outputs": [],
   "source": []
  },
  {
   "cell_type": "code",
   "execution_count": null,
   "id": "d5ff69aa",
   "metadata": {},
   "outputs": [],
   "source": []
  },
  {
   "cell_type": "code",
   "execution_count": null,
   "id": "8ede59d6",
   "metadata": {},
   "outputs": [],
   "source": []
  }
 ],
 "metadata": {
  "kernelspec": {
   "display_name": "Python 3 (ipykernel)",
   "language": "python",
   "name": "python3"
  },
  "language_info": {
   "codemirror_mode": {
    "name": "ipython",
    "version": 3
   },
   "file_extension": ".py",
   "mimetype": "text/x-python",
   "name": "python",
   "nbconvert_exporter": "python",
   "pygments_lexer": "ipython3",
   "version": "3.11.5"
  }
 },
 "nbformat": 4,
 "nbformat_minor": 5
}
